{
 "cells": [
  {
   "cell_type": "code",
   "outputs": [],
   "source": [
    "#Importando as dependencias\n",
    "import pandas as pd"
   ],
   "metadata": {
    "collapsed": false,
    "ExecuteTime": {
     "end_time": "2024-01-19T20:19:51.111005421Z",
     "start_time": "2024-01-19T20:19:50.875531439Z"
    }
   },
   "id": "1433833ec489e9f",
   "execution_count": 1
  },
  {
   "cell_type": "code",
   "outputs": [],
   "source": [
    "#Lendo dados da planilha\n",
    "dados = pd.read_csv('../data/dados_processados/CAMPO_GRANDE_01-01-2002_A_31-12-2022.CSV', sep=';')"
   ],
   "metadata": {
    "collapsed": false,
    "ExecuteTime": {
     "end_time": "2024-01-19T20:19:58.723616351Z",
     "start_time": "2024-01-19T20:19:58.395523624Z"
    }
   },
   "id": "aea25cc8abb788a",
   "execution_count": 2
  },
  {
   "cell_type": "code",
   "outputs": [
    {
     "name": "stdout",
     "output_type": "stream",
     "text": [
      "<class 'pandas.core.frame.DataFrame'>\n",
      "RangeIndex: 184080 entries, 0 to 184079\n",
      "Data columns (total 19 columns):\n",
      " #   Column                   Non-Null Count   Dtype  \n",
      "---  ------                   --------------   -----  \n",
      " 0   Data                     184080 non-null  object \n",
      " 1   Hora                     184080 non-null  object \n",
      " 2   PRECIP. TOTAL (mm)       183148 non-null  object \n",
      " 3   PRESSÃO ATM. (mB)        183149 non-null  object \n",
      " 4   PRESSÃO MAX. (mB)        183148 non-null  object \n",
      " 5   PRESSÃO MIN. (mB)        183148 non-null  object \n",
      " 6   RADIAÇÃO GLOBAL (KJ/m²)  168285 non-null  object \n",
      " 7   TEMP. AR (°C)            183149 non-null  object \n",
      " 8   TEMP. ORVALHO (°C)       182867 non-null  object \n",
      " 9   TEMP. MÁX. (°C)          183148 non-null  object \n",
      " 10  TEMP. MÍN. (°C)          183148 non-null  object \n",
      " 11  TEMP. ORVALHO MAX. (°C)  182831 non-null  object \n",
      " 12  TEMP. ORVALHO MIN. (°C)  182830 non-null  object \n",
      " 13  UMID. REL. MAX. (%)      182833 non-null  float64\n",
      " 14  UMID. REL. MIN. (%)      182832 non-null  float64\n",
      " 15  UMID. REL. AR (%)        182862 non-null  float64\n",
      " 16  DIREÇÃO VENTO (°)        174773 non-null  float64\n",
      " 17  RAJADA VENTO (m/s)       183145 non-null  object \n",
      " 18  VEL. VENTO (m/s)         183148 non-null  object \n",
      "dtypes: float64(4), object(15)\n",
      "memory usage: 26.7+ MB\n"
     ]
    }
   ],
   "source": [
    "#Exibindo informações sobre os DADOS da planilha\n",
    "dados.info()"
   ],
   "metadata": {
    "collapsed": false,
    "ExecuteTime": {
     "end_time": "2024-01-19T20:20:00.289437868Z",
     "start_time": "2024-01-19T20:20:00.215278394Z"
    }
   },
   "id": "dd05fa30e9210856",
   "execution_count": 3
  },
  {
   "cell_type": "code",
   "outputs": [],
   "source": [
    "#Definindo a planilha como DataFrame\n",
    "df = pd.DataFrame(dados)"
   ],
   "metadata": {
    "collapsed": false,
    "ExecuteTime": {
     "end_time": "2024-01-19T15:29:01.832168800Z",
     "start_time": "2024-01-19T15:29:01.824287100Z"
    }
   },
   "id": "19d8f05af52133d",
   "execution_count": 47
  },
  {
   "cell_type": "code",
   "outputs": [],
   "source": [
    "#Cria um array do tipo NumPy para trabalhar \n",
    "nomes_colunas = df.columns.to_numpy()"
   ],
   "metadata": {
    "collapsed": false,
    "ExecuteTime": {
     "end_time": "2024-01-19T15:29:01.840239300Z",
     "start_time": "2024-01-19T15:29:01.831171300Z"
    }
   },
   "id": "5882cab88c779cd0",
   "execution_count": 48
  },
  {
   "cell_type": "code",
   "outputs": [
    {
     "name": "stdout",
     "output_type": "stream",
     "text": [
      "['Data' 'Hora' 'PRECIP. TOTAL (mm)' 'PRESSÃO ATM. (mB)'\n",
      " 'PRESSÃO MAX. (mB)' 'PRESSÃO MIN. (mB)' 'RADIAÇÃO GLOBAL (KJ/m²)'\n",
      " 'TEMP. AR (°C)' 'TEMP. ORVALHO (°C)' 'TEMP. MÁX. (°C)' 'TEMP. MÍN. (°C)'\n",
      " 'TEMP. ORVALHO MAX. (°C)' 'TEMP. ORVALHO MIN. (°C)' 'UMID. REL. MAX. (%)'\n",
      " 'UMID. REL. MIN. (%)' 'UMID. REL. AR (%)' 'DIREÇÃO VENTO (°)'\n",
      " 'RAJADA VENTO (m/s)' 'VEL. VENTO (m/s)']\n"
     ]
    }
   ],
   "source": [
    "#Printa os nomes das colunas\n",
    "print(nomes_colunas)"
   ],
   "metadata": {
    "collapsed": false,
    "ExecuteTime": {
     "end_time": "2024-01-19T15:29:01.900648Z",
     "start_time": "2024-01-19T15:29:01.840239300Z"
    }
   },
   "id": "6bfcab7f3a9ba74f",
   "execution_count": 49
  },
  {
   "cell_type": "code",
   "outputs": [],
   "source": [
    "#Pegar todas colunas a partir da segunda\n",
    "colunas_para_converter = nomes_colunas[2:] "
   ],
   "metadata": {
    "collapsed": false,
    "ExecuteTime": {
     "end_time": "2024-01-19T15:29:01.901656600Z",
     "start_time": "2024-01-19T15:29:01.845518500Z"
    }
   },
   "id": "87affbdecdf8611d",
   "execution_count": 50
  },
  {
   "cell_type": "code",
   "outputs": [
    {
     "name": "stdout",
     "output_type": "stream",
     "text": [
      "['PRECIP. TOTAL (mm)' 'PRESSÃO ATM. (mB)' 'PRESSÃO MAX. (mB)'\n",
      " 'PRESSÃO MIN. (mB)' 'RADIAÇÃO GLOBAL (KJ/m²)' 'TEMP. AR (°C)'\n",
      " 'TEMP. ORVALHO (°C)' 'TEMP. MÁX. (°C)' 'TEMP. MÍN. (°C)'\n",
      " 'TEMP. ORVALHO MAX. (°C)' 'TEMP. ORVALHO MIN. (°C)' 'UMID. REL. MAX. (%)'\n",
      " 'UMID. REL. MIN. (%)' 'UMID. REL. AR (%)' 'DIREÇÃO VENTO (°)'\n",
      " 'RAJADA VENTO (m/s)' 'VEL. VENTO (m/s)']\n"
     ]
    }
   ],
   "source": [
    "#Conferindo dados \n",
    "print(colunas_para_converter)"
   ],
   "metadata": {
    "collapsed": false,
    "ExecuteTime": {
     "end_time": "2024-01-19T15:29:01.902654200Z",
     "start_time": "2024-01-19T15:29:01.854938200Z"
    }
   },
   "id": "6ac9e821b9b8175b",
   "execution_count": 51
  },
  {
   "cell_type": "code",
   "outputs": [],
   "source": [
    "#Convertendo as colunas para float e trocando ',' por '.'\n",
    "df[colunas_para_converter] = df[colunas_para_converter].replace(',', '.', regex=True).astype(float)"
   ],
   "metadata": {
    "collapsed": false,
    "ExecuteTime": {
     "end_time": "2024-01-19T15:29:03.435937600Z",
     "start_time": "2024-01-19T15:29:01.860946300Z"
    }
   },
   "id": "fec0bde4e36eeb2a",
   "execution_count": 52
  },
  {
   "cell_type": "code",
   "outputs": [
    {
     "name": "stdout",
     "output_type": "stream",
     "text": [
      "<class 'pandas.core.frame.DataFrame'>\n",
      "RangeIndex: 184080 entries, 0 to 184079\n",
      "Data columns (total 19 columns):\n",
      " #   Column                   Non-Null Count   Dtype  \n",
      "---  ------                   --------------   -----  \n",
      " 0   Data                     184080 non-null  object \n",
      " 1   Hora                     184080 non-null  object \n",
      " 2   PRECIP. TOTAL (mm)       183148 non-null  object \n",
      " 3   PRESSÃO ATM. (mB)        183149 non-null  object \n",
      " 4   PRESSÃO MAX. (mB)        183148 non-null  object \n",
      " 5   PRESSÃO MIN. (mB)        183148 non-null  object \n",
      " 6   RADIAÇÃO GLOBAL (KJ/m²)  168285 non-null  object \n",
      " 7   TEMP. AR (°C)            183149 non-null  object \n",
      " 8   TEMP. ORVALHO (°C)       182867 non-null  object \n",
      " 9   TEMP. MÁX. (°C)          183148 non-null  object \n",
      " 10  TEMP. MÍN. (°C)          183148 non-null  object \n",
      " 11  TEMP. ORVALHO MAX. (°C)  182831 non-null  object \n",
      " 12  TEMP. ORVALHO MIN. (°C)  182830 non-null  object \n",
      " 13  UMID. REL. MAX. (%)      182833 non-null  float64\n",
      " 14  UMID. REL. MIN. (%)      182832 non-null  float64\n",
      " 15  UMID. REL. AR (%)        182862 non-null  float64\n",
      " 16  DIREÇÃO VENTO (°)        174773 non-null  float64\n",
      " 17  RAJADA VENTO (m/s)       183145 non-null  object \n",
      " 18  VEL. VENTO (m/s)         183148 non-null  object \n",
      "dtypes: float64(4), object(15)\n",
      "memory usage: 26.7+ MB\n"
     ]
    }
   ],
   "source": [
    "#Conferindo informações erradas dos dados :) PS: Corrijo depois\n",
    "dados.info()"
   ],
   "metadata": {
    "collapsed": false,
    "ExecuteTime": {
     "end_time": "2024-01-19T15:29:03.517052700Z",
     "start_time": "2024-01-19T15:29:03.435937600Z"
    }
   },
   "id": "41f2ecc6594fcab",
   "execution_count": 53
  },
  {
   "cell_type": "code",
   "outputs": [
    {
     "name": "stdout",
     "output_type": "stream",
     "text": [
      "              Data      Hora  PRECIP. TOTAL (mm)  PRESSÃO ATM. (mB)  \\\n",
      "0       01/01/2002     00:00                 0.0              946.9   \n",
      "1       01/01/2002     01:00                 0.0              947.3   \n",
      "2       01/01/2002     02:00                 0.0              947.9   \n",
      "3       01/01/2002     03:00                 0.0              947.3   \n",
      "4       01/01/2002     04:00                 0.2              945.9   \n",
      "...            ...       ...                 ...                ...   \n",
      "184075  31/12/2022  1900 UTC                 0.2              949.7   \n",
      "184076  31/12/2022  2000 UTC                 0.0              949.4   \n",
      "184077  31/12/2022  2100 UTC                 0.0              948.8   \n",
      "184078  31/12/2022  2200 UTC                 0.0              949.5   \n",
      "184079  31/12/2022  2300 UTC                 0.0              950.8   \n",
      "\n",
      "        PRESSÃO MAX. (mB)  PRESSÃO MIN. (mB)  RADIAÇÃO GLOBAL (KJ/m²)  \\\n",
      "0                   946.9              946.3                  -9999.0   \n",
      "1                   947.3              946.8                  -9999.0   \n",
      "2                   947.9              947.4                  -9999.0   \n",
      "3                   947.9              947.3                  -9999.0   \n",
      "4                   947.3              945.9                  -9999.0   \n",
      "...                   ...                ...                      ...   \n",
      "184075              950.6              949.7                   3078.6   \n",
      "184076              949.7              949.3                   2126.7   \n",
      "184077              949.4              948.7                    790.4   \n",
      "184078              949.6              948.8                     87.1   \n",
      "184079              950.8              949.5                      7.6   \n",
      "\n",
      "        TEMP. AR (°C)  TEMP. ORVALHO (°C)  TEMP. MÁX. (°C)  TEMP. MÍN. (°C)  \\\n",
      "0                22.4                20.2             22.8             22.4   \n",
      "1                21.8                19.9             22.4             21.8   \n",
      "2                21.3                19.8             22.1             21.3   \n",
      "3                20.9                19.7             21.3             20.8   \n",
      "4                21.0                19.5             21.0             20.7   \n",
      "...               ...                 ...              ...              ...   \n",
      "184075           30.2                18.2             30.8             24.5   \n",
      "184076           31.8                19.6             31.9             30.2   \n",
      "184077           29.5                19.0             31.8             29.5   \n",
      "184078           28.0                21.2             29.5             27.8   \n",
      "184079           25.9                21.3             28.0             25.9   \n",
      "\n",
      "        TEMP. ORVALHO MAX. (°C)  TEMP. ORVALHO MIN. (°C)  UMID. REL. MAX. (%)  \\\n",
      "0                          20.3                     20.2                 88.0   \n",
      "1                          20.2                     19.9                 89.0   \n",
      "2                          20.3                     19.6                 91.0   \n",
      "3                          19.9                     19.6                 93.0   \n",
      "4                          19.9                     19.5                 94.0   \n",
      "...                         ...                      ...                  ...   \n",
      "184075                     22.7                     17.1                 80.0   \n",
      "184076                     20.9                     18.8                 57.0   \n",
      "184077                     20.9                     18.4                 54.0   \n",
      "184078                     21.5                     19.1                 67.0   \n",
      "184079                     21.3                     20.9                 76.0   \n",
      "\n",
      "        UMID. REL. MIN. (%)  UMID. REL. AR (%)  DIREÇÃO VENTO (°)  \\\n",
      "0                      85.0               88.0               21.0   \n",
      "1                      88.0               89.0                1.0   \n",
      "2                      88.0               91.0              163.0   \n",
      "3                      91.0               93.0               55.0   \n",
      "4                      91.0               91.0                1.0   \n",
      "...                     ...                ...                ...   \n",
      "184075                 44.0               48.0               98.0   \n",
      "184076                 47.0               49.0              125.0   \n",
      "184077                 47.0               53.0              120.0   \n",
      "184078                 53.0               66.0                3.0   \n",
      "184079                 66.0               76.0                3.0   \n",
      "\n",
      "        RAJADA VENTO (m/s)  VEL. VENTO (m/s)  \n",
      "0                      3.2               1.4  \n",
      "1                      3.3               0.8  \n",
      "2                      7.7               3.0  \n",
      "3                      3.4               0.4  \n",
      "4                      3.0               1.9  \n",
      "...                    ...               ...  \n",
      "184075                 6.5               2.9  \n",
      "184076                 4.7               1.4  \n",
      "184077                 5.1               1.7  \n",
      "184078                 3.3               2.1  \n",
      "184079                 4.9               1.0  \n",
      "\n",
      "[184080 rows x 19 columns]\n"
     ]
    }
   ],
   "source": [
    "#Conferindo informações corretas \n",
    "print(df)"
   ],
   "metadata": {
    "collapsed": false,
    "ExecuteTime": {
     "end_time": "2024-01-19T15:29:03.564736Z",
     "start_time": "2024-01-19T15:29:03.517052700Z"
    }
   },
   "id": "d011c5d078a93cf2",
   "execution_count": 54
  },
  {
   "cell_type": "code",
   "outputs": [
    {
     "name": "stdout",
     "output_type": "stream",
     "text": [
      "<class 'pandas.core.frame.DataFrame'>\n",
      "RangeIndex: 184080 entries, 0 to 184079\n",
      "Data columns (total 19 columns):\n",
      " #   Column                   Non-Null Count   Dtype  \n",
      "---  ------                   --------------   -----  \n",
      " 0   Data                     184080 non-null  object \n",
      " 1   Hora                     184080 non-null  object \n",
      " 2   PRECIP. TOTAL (mm)       183148 non-null  float64\n",
      " 3   PRESSÃO ATM. (mB)        183149 non-null  float64\n",
      " 4   PRESSÃO MAX. (mB)        183148 non-null  float64\n",
      " 5   PRESSÃO MIN. (mB)        183148 non-null  float64\n",
      " 6   RADIAÇÃO GLOBAL (KJ/m²)  168285 non-null  float64\n",
      " 7   TEMP. AR (°C)            183149 non-null  float64\n",
      " 8   TEMP. ORVALHO (°C)       182867 non-null  float64\n",
      " 9   TEMP. MÁX. (°C)          183148 non-null  float64\n",
      " 10  TEMP. MÍN. (°C)          183148 non-null  float64\n",
      " 11  TEMP. ORVALHO MAX. (°C)  182831 non-null  float64\n",
      " 12  TEMP. ORVALHO MIN. (°C)  182830 non-null  float64\n",
      " 13  UMID. REL. MAX. (%)      182833 non-null  float64\n",
      " 14  UMID. REL. MIN. (%)      182832 non-null  float64\n",
      " 15  UMID. REL. AR (%)        182862 non-null  float64\n",
      " 16  DIREÇÃO VENTO (°)        174773 non-null  float64\n",
      " 17  RAJADA VENTO (m/s)       183145 non-null  float64\n",
      " 18  VEL. VENTO (m/s)         183148 non-null  float64\n",
      "dtypes: float64(17), object(2)\n",
      "memory usage: 26.7+ MB\n"
     ]
    }
   ],
   "source": [
    "#Conferindo informações sobre o tipo dos dados \n",
    "df.info()"
   ],
   "metadata": {
    "collapsed": false,
    "ExecuteTime": {
     "end_time": "2024-01-19T15:29:03.566736300Z",
     "start_time": "2024-01-19T15:29:03.534477900Z"
    }
   },
   "id": "a468d0066299c3a0",
   "execution_count": 55
  },
  {
   "cell_type": "code",
   "outputs": [
    {
     "ename": "KeyboardInterrupt",
     "evalue": "",
     "output_type": "error",
     "traceback": [
      "\u001B[1;31m---------------------------------------------------------------------------\u001B[0m",
      "\u001B[1;31mKeyboardInterrupt\u001B[0m                         Traceback (most recent call last)",
      "Cell \u001B[1;32mIn[56], line 2\u001B[0m\n\u001B[0;32m      1\u001B[0m \u001B[38;5;66;03m#Salvando os arquivos só para ter certeza\u001B[39;00m\n\u001B[1;32m----> 2\u001B[0m \u001B[43mdf\u001B[49m\u001B[38;5;241;43m.\u001B[39;49m\u001B[43mto_csv\u001B[49m\u001B[43m(\u001B[49m\u001B[38;5;124;43m'\u001B[39;49m\u001B[38;5;124;43m../data/dados_processados/CAMPO_GRANDE_01-01-2002_A_31-12-2022_valores_float.CSV\u001B[39;49m\u001B[38;5;124;43m'\u001B[39;49m\u001B[43m)\u001B[49m\n",
      "File \u001B[1;32m~\\DataspellProjects\\Projeto_HydrAI_Predictor\\venv\\Lib\\site-packages\\pandas\\core\\generic.py:3902\u001B[0m, in \u001B[0;36mNDFrame.to_csv\u001B[1;34m(self, path_or_buf, sep, na_rep, float_format, columns, header, index, index_label, mode, encoding, compression, quoting, quotechar, lineterminator, chunksize, date_format, doublequote, escapechar, decimal, errors, storage_options)\u001B[0m\n\u001B[0;32m   3891\u001B[0m df \u001B[38;5;241m=\u001B[39m \u001B[38;5;28mself\u001B[39m \u001B[38;5;28;01mif\u001B[39;00m \u001B[38;5;28misinstance\u001B[39m(\u001B[38;5;28mself\u001B[39m, ABCDataFrame) \u001B[38;5;28;01melse\u001B[39;00m \u001B[38;5;28mself\u001B[39m\u001B[38;5;241m.\u001B[39mto_frame()\n\u001B[0;32m   3893\u001B[0m formatter \u001B[38;5;241m=\u001B[39m DataFrameFormatter(\n\u001B[0;32m   3894\u001B[0m     frame\u001B[38;5;241m=\u001B[39mdf,\n\u001B[0;32m   3895\u001B[0m     header\u001B[38;5;241m=\u001B[39mheader,\n\u001B[1;32m   (...)\u001B[0m\n\u001B[0;32m   3899\u001B[0m     decimal\u001B[38;5;241m=\u001B[39mdecimal,\n\u001B[0;32m   3900\u001B[0m )\n\u001B[1;32m-> 3902\u001B[0m \u001B[38;5;28;01mreturn\u001B[39;00m \u001B[43mDataFrameRenderer\u001B[49m\u001B[43m(\u001B[49m\u001B[43mformatter\u001B[49m\u001B[43m)\u001B[49m\u001B[38;5;241;43m.\u001B[39;49m\u001B[43mto_csv\u001B[49m\u001B[43m(\u001B[49m\n\u001B[0;32m   3903\u001B[0m \u001B[43m    \u001B[49m\u001B[43mpath_or_buf\u001B[49m\u001B[43m,\u001B[49m\n\u001B[0;32m   3904\u001B[0m \u001B[43m    \u001B[49m\u001B[43mlineterminator\u001B[49m\u001B[38;5;241;43m=\u001B[39;49m\u001B[43mlineterminator\u001B[49m\u001B[43m,\u001B[49m\n\u001B[0;32m   3905\u001B[0m \u001B[43m    \u001B[49m\u001B[43msep\u001B[49m\u001B[38;5;241;43m=\u001B[39;49m\u001B[43msep\u001B[49m\u001B[43m,\u001B[49m\n\u001B[0;32m   3906\u001B[0m \u001B[43m    \u001B[49m\u001B[43mencoding\u001B[49m\u001B[38;5;241;43m=\u001B[39;49m\u001B[43mencoding\u001B[49m\u001B[43m,\u001B[49m\n\u001B[0;32m   3907\u001B[0m \u001B[43m    \u001B[49m\u001B[43merrors\u001B[49m\u001B[38;5;241;43m=\u001B[39;49m\u001B[43merrors\u001B[49m\u001B[43m,\u001B[49m\n\u001B[0;32m   3908\u001B[0m \u001B[43m    \u001B[49m\u001B[43mcompression\u001B[49m\u001B[38;5;241;43m=\u001B[39;49m\u001B[43mcompression\u001B[49m\u001B[43m,\u001B[49m\n\u001B[0;32m   3909\u001B[0m \u001B[43m    \u001B[49m\u001B[43mquoting\u001B[49m\u001B[38;5;241;43m=\u001B[39;49m\u001B[43mquoting\u001B[49m\u001B[43m,\u001B[49m\n\u001B[0;32m   3910\u001B[0m \u001B[43m    \u001B[49m\u001B[43mcolumns\u001B[49m\u001B[38;5;241;43m=\u001B[39;49m\u001B[43mcolumns\u001B[49m\u001B[43m,\u001B[49m\n\u001B[0;32m   3911\u001B[0m \u001B[43m    \u001B[49m\u001B[43mindex_label\u001B[49m\u001B[38;5;241;43m=\u001B[39;49m\u001B[43mindex_label\u001B[49m\u001B[43m,\u001B[49m\n\u001B[0;32m   3912\u001B[0m \u001B[43m    \u001B[49m\u001B[43mmode\u001B[49m\u001B[38;5;241;43m=\u001B[39;49m\u001B[43mmode\u001B[49m\u001B[43m,\u001B[49m\n\u001B[0;32m   3913\u001B[0m \u001B[43m    \u001B[49m\u001B[43mchunksize\u001B[49m\u001B[38;5;241;43m=\u001B[39;49m\u001B[43mchunksize\u001B[49m\u001B[43m,\u001B[49m\n\u001B[0;32m   3914\u001B[0m \u001B[43m    \u001B[49m\u001B[43mquotechar\u001B[49m\u001B[38;5;241;43m=\u001B[39;49m\u001B[43mquotechar\u001B[49m\u001B[43m,\u001B[49m\n\u001B[0;32m   3915\u001B[0m \u001B[43m    \u001B[49m\u001B[43mdate_format\u001B[49m\u001B[38;5;241;43m=\u001B[39;49m\u001B[43mdate_format\u001B[49m\u001B[43m,\u001B[49m\n\u001B[0;32m   3916\u001B[0m \u001B[43m    \u001B[49m\u001B[43mdoublequote\u001B[49m\u001B[38;5;241;43m=\u001B[39;49m\u001B[43mdoublequote\u001B[49m\u001B[43m,\u001B[49m\n\u001B[0;32m   3917\u001B[0m \u001B[43m    \u001B[49m\u001B[43mescapechar\u001B[49m\u001B[38;5;241;43m=\u001B[39;49m\u001B[43mescapechar\u001B[49m\u001B[43m,\u001B[49m\n\u001B[0;32m   3918\u001B[0m \u001B[43m    \u001B[49m\u001B[43mstorage_options\u001B[49m\u001B[38;5;241;43m=\u001B[39;49m\u001B[43mstorage_options\u001B[49m\u001B[43m,\u001B[49m\n\u001B[0;32m   3919\u001B[0m \u001B[43m\u001B[49m\u001B[43m)\u001B[49m\n",
      "File \u001B[1;32m~\\DataspellProjects\\Projeto_HydrAI_Predictor\\venv\\Lib\\site-packages\\pandas\\io\\formats\\format.py:1152\u001B[0m, in \u001B[0;36mDataFrameRenderer.to_csv\u001B[1;34m(self, path_or_buf, encoding, sep, columns, index_label, mode, compression, quoting, quotechar, lineterminator, chunksize, date_format, doublequote, escapechar, errors, storage_options)\u001B[0m\n\u001B[0;32m   1131\u001B[0m     created_buffer \u001B[38;5;241m=\u001B[39m \u001B[38;5;28;01mFalse\u001B[39;00m\n\u001B[0;32m   1133\u001B[0m csv_formatter \u001B[38;5;241m=\u001B[39m CSVFormatter(\n\u001B[0;32m   1134\u001B[0m     path_or_buf\u001B[38;5;241m=\u001B[39mpath_or_buf,\n\u001B[0;32m   1135\u001B[0m     lineterminator\u001B[38;5;241m=\u001B[39mlineterminator,\n\u001B[1;32m   (...)\u001B[0m\n\u001B[0;32m   1150\u001B[0m     formatter\u001B[38;5;241m=\u001B[39m\u001B[38;5;28mself\u001B[39m\u001B[38;5;241m.\u001B[39mfmt,\n\u001B[0;32m   1151\u001B[0m )\n\u001B[1;32m-> 1152\u001B[0m \u001B[43mcsv_formatter\u001B[49m\u001B[38;5;241;43m.\u001B[39;49m\u001B[43msave\u001B[49m\u001B[43m(\u001B[49m\u001B[43m)\u001B[49m\n\u001B[0;32m   1154\u001B[0m \u001B[38;5;28;01mif\u001B[39;00m created_buffer:\n\u001B[0;32m   1155\u001B[0m     \u001B[38;5;28;01massert\u001B[39;00m \u001B[38;5;28misinstance\u001B[39m(path_or_buf, StringIO)\n",
      "File \u001B[1;32m~\\DataspellProjects\\Projeto_HydrAI_Predictor\\venv\\Lib\\site-packages\\pandas\\io\\formats\\csvs.py:266\u001B[0m, in \u001B[0;36mCSVFormatter.save\u001B[1;34m(self)\u001B[0m\n\u001B[0;32m    247\u001B[0m \u001B[38;5;28;01mwith\u001B[39;00m get_handle(\n\u001B[0;32m    248\u001B[0m     \u001B[38;5;28mself\u001B[39m\u001B[38;5;241m.\u001B[39mfilepath_or_buffer,\n\u001B[0;32m    249\u001B[0m     \u001B[38;5;28mself\u001B[39m\u001B[38;5;241m.\u001B[39mmode,\n\u001B[1;32m   (...)\u001B[0m\n\u001B[0;32m    254\u001B[0m ) \u001B[38;5;28;01mas\u001B[39;00m handles:\n\u001B[0;32m    255\u001B[0m     \u001B[38;5;66;03m# Note: self.encoding is irrelevant here\u001B[39;00m\n\u001B[0;32m    256\u001B[0m     \u001B[38;5;28mself\u001B[39m\u001B[38;5;241m.\u001B[39mwriter \u001B[38;5;241m=\u001B[39m csvlib\u001B[38;5;241m.\u001B[39mwriter(\n\u001B[0;32m    257\u001B[0m         handles\u001B[38;5;241m.\u001B[39mhandle,\n\u001B[0;32m    258\u001B[0m         lineterminator\u001B[38;5;241m=\u001B[39m\u001B[38;5;28mself\u001B[39m\u001B[38;5;241m.\u001B[39mlineterminator,\n\u001B[1;32m   (...)\u001B[0m\n\u001B[0;32m    263\u001B[0m         quotechar\u001B[38;5;241m=\u001B[39m\u001B[38;5;28mself\u001B[39m\u001B[38;5;241m.\u001B[39mquotechar,\n\u001B[0;32m    264\u001B[0m     )\n\u001B[1;32m--> 266\u001B[0m     \u001B[38;5;28;43mself\u001B[39;49m\u001B[38;5;241;43m.\u001B[39;49m\u001B[43m_save\u001B[49m\u001B[43m(\u001B[49m\u001B[43m)\u001B[49m\n",
      "File \u001B[1;32m~\\DataspellProjects\\Projeto_HydrAI_Predictor\\venv\\Lib\\site-packages\\pandas\\io\\formats\\csvs.py:271\u001B[0m, in \u001B[0;36mCSVFormatter._save\u001B[1;34m(self)\u001B[0m\n\u001B[0;32m    269\u001B[0m \u001B[38;5;28;01mif\u001B[39;00m \u001B[38;5;28mself\u001B[39m\u001B[38;5;241m.\u001B[39m_need_to_save_header:\n\u001B[0;32m    270\u001B[0m     \u001B[38;5;28mself\u001B[39m\u001B[38;5;241m.\u001B[39m_save_header()\n\u001B[1;32m--> 271\u001B[0m \u001B[38;5;28;43mself\u001B[39;49m\u001B[38;5;241;43m.\u001B[39;49m\u001B[43m_save_body\u001B[49m\u001B[43m(\u001B[49m\u001B[43m)\u001B[49m\n",
      "File \u001B[1;32m~\\DataspellProjects\\Projeto_HydrAI_Predictor\\venv\\Lib\\site-packages\\pandas\\io\\formats\\csvs.py:309\u001B[0m, in \u001B[0;36mCSVFormatter._save_body\u001B[1;34m(self)\u001B[0m\n\u001B[0;32m    307\u001B[0m \u001B[38;5;28;01mif\u001B[39;00m start_i \u001B[38;5;241m>\u001B[39m\u001B[38;5;241m=\u001B[39m end_i:\n\u001B[0;32m    308\u001B[0m     \u001B[38;5;28;01mbreak\u001B[39;00m\n\u001B[1;32m--> 309\u001B[0m \u001B[38;5;28;43mself\u001B[39;49m\u001B[38;5;241;43m.\u001B[39;49m\u001B[43m_save_chunk\u001B[49m\u001B[43m(\u001B[49m\u001B[43mstart_i\u001B[49m\u001B[43m,\u001B[49m\u001B[43m \u001B[49m\u001B[43mend_i\u001B[49m\u001B[43m)\u001B[49m\n",
      "File \u001B[1;32m~\\DataspellProjects\\Projeto_HydrAI_Predictor\\venv\\Lib\\site-packages\\pandas\\io\\formats\\csvs.py:320\u001B[0m, in \u001B[0;36mCSVFormatter._save_chunk\u001B[1;34m(self, start_i, end_i)\u001B[0m\n\u001B[0;32m    317\u001B[0m data \u001B[38;5;241m=\u001B[39m [res\u001B[38;5;241m.\u001B[39miget_values(i) \u001B[38;5;28;01mfor\u001B[39;00m i \u001B[38;5;129;01min\u001B[39;00m \u001B[38;5;28mrange\u001B[39m(\u001B[38;5;28mlen\u001B[39m(res\u001B[38;5;241m.\u001B[39mitems))]\n\u001B[0;32m    319\u001B[0m ix \u001B[38;5;241m=\u001B[39m \u001B[38;5;28mself\u001B[39m\u001B[38;5;241m.\u001B[39mdata_index[slicer]\u001B[38;5;241m.\u001B[39m_format_native_types(\u001B[38;5;241m*\u001B[39m\u001B[38;5;241m*\u001B[39m\u001B[38;5;28mself\u001B[39m\u001B[38;5;241m.\u001B[39m_number_format)\n\u001B[1;32m--> 320\u001B[0m \u001B[43mlibwriters\u001B[49m\u001B[38;5;241;43m.\u001B[39;49m\u001B[43mwrite_csv_rows\u001B[49m\u001B[43m(\u001B[49m\n\u001B[0;32m    321\u001B[0m \u001B[43m    \u001B[49m\u001B[43mdata\u001B[49m\u001B[43m,\u001B[49m\n\u001B[0;32m    322\u001B[0m \u001B[43m    \u001B[49m\u001B[43mix\u001B[49m\u001B[43m,\u001B[49m\n\u001B[0;32m    323\u001B[0m \u001B[43m    \u001B[49m\u001B[38;5;28;43mself\u001B[39;49m\u001B[38;5;241;43m.\u001B[39;49m\u001B[43mnlevels\u001B[49m\u001B[43m,\u001B[49m\n\u001B[0;32m    324\u001B[0m \u001B[43m    \u001B[49m\u001B[38;5;28;43mself\u001B[39;49m\u001B[38;5;241;43m.\u001B[39;49m\u001B[43mcols\u001B[49m\u001B[43m,\u001B[49m\n\u001B[0;32m    325\u001B[0m \u001B[43m    \u001B[49m\u001B[38;5;28;43mself\u001B[39;49m\u001B[38;5;241;43m.\u001B[39;49m\u001B[43mwriter\u001B[49m\u001B[43m,\u001B[49m\n\u001B[0;32m    326\u001B[0m \u001B[43m\u001B[49m\u001B[43m)\u001B[49m\n",
      "File \u001B[1;32mwriters.pyx:55\u001B[0m, in \u001B[0;36mpandas._libs.writers.write_csv_rows\u001B[1;34m()\u001B[0m\n",
      "\u001B[1;31mKeyboardInterrupt\u001B[0m: "
     ]
    }
   ],
   "source": [
    "#Salvando os arquivos só para ter certeza\n",
    "df.to_csv('../data/dados_processados/CAMPO_GRANDE_01-01-2002_A_31-12-2022_valores_float_v1.CSV')"
   ],
   "metadata": {
    "collapsed": false,
    "ExecuteTime": {
     "end_time": "2024-01-19T15:29:05.308311800Z",
     "start_time": "2024-01-19T15:29:03.562736Z"
    }
   },
   "id": "d3ffa8f362317cb0",
   "execution_count": 56
  },
  {
   "cell_type": "code",
   "outputs": [],
   "source": [
    "#Convertendo os dados da coluna Data para datetime\n",
    "df = df.drop('Hora', axis=1)"
   ],
   "metadata": {
    "collapsed": false,
    "ExecuteTime": {
     "start_time": "2024-01-19T15:29:05.308311800Z"
    }
   },
   "id": "d556477b4603dcb1",
   "execution_count": null
  },
  {
   "cell_type": "code",
   "outputs": [],
   "source": [
    "#Conferindo informações\n",
    "df.info()"
   ],
   "metadata": {
    "collapsed": false,
    "ExecuteTime": {
     "end_time": "2024-01-19T15:29:05.313311900Z",
     "start_time": "2024-01-19T15:29:05.310313500Z"
    }
   },
   "id": "f7e0218363dc5320",
   "execution_count": null
  },
  {
   "cell_type": "code",
   "outputs": [],
   "source": [
    "df['Data'] = pd.to_datetime(df['Data'])"
   ],
   "metadata": {
    "collapsed": false,
    "ExecuteTime": {
     "start_time": "2024-01-19T15:29:05.313311900Z"
    }
   },
   "id": "bf1c2b1517d09965",
   "execution_count": null
  },
  {
   "cell_type": "code",
   "outputs": [],
   "source": [
    "df.to_csv('../data/dados_processados/CAMPO_GRANDE_01-01-2002_A_31-12-2022_sem_horas_v2.CSV')"
   ],
   "metadata": {
    "collapsed": false,
    "ExecuteTime": {
     "start_time": "2024-01-19T15:29:05.315312100Z"
    }
   },
   "id": "b6c876dd82699916",
   "execution_count": null
  },
  {
   "cell_type": "code",
   "outputs": [],
   "source": [
    "df_media_por_dia = pd.read_csv('../data/dados_processados/CAMPO_GRANDE_01-01-2002_A_31-12-2022_sem_horas.CSV')"
   ],
   "metadata": {
    "collapsed": false,
    "ExecuteTime": {
     "start_time": "2024-01-19T15:29:05.318312600Z"
    }
   },
   "id": "c21eeef900f56527",
   "execution_count": null
  },
  {
   "cell_type": "code",
   "outputs": [],
   "source": [
    "df_media_por_dia['Data'] = pd.to_datetime(df['Data'], format='%d/%m/%Y')"
   ],
   "metadata": {
    "collapsed": false,
    "ExecuteTime": {
     "start_time": "2024-01-19T15:29:05.320313700Z"
    }
   },
   "id": "875c886c0326844a",
   "execution_count": null
  },
  {
   "cell_type": "code",
   "outputs": [],
   "source": [
    "print(df_media_por_dia)"
   ],
   "metadata": {
    "collapsed": false,
    "ExecuteTime": {
     "start_time": "2024-01-19T15:29:05.322311900Z"
    }
   },
   "id": "6a6079a72e855365",
   "execution_count": null
  },
  {
   "cell_type": "code",
   "outputs": [],
   "source": [
    "df_media_por_dia.to_csv('../data/dados_processados/CAMPO_GRANDE_01-01-2002_A_31-12-2022_com_dias_formatados_v3.CSV')"
   ],
   "metadata": {
    "collapsed": false,
    "ExecuteTime": {
     "start_time": "2024-01-19T15:29:05.324315900Z"
    }
   },
   "id": "883d39d6abd085f1",
   "execution_count": null
  },
  {
   "cell_type": "code",
   "outputs": [
    {
     "name": "stdout",
     "output_type": "stream",
     "text": [
      "<class 'pandas.core.frame.DataFrame'>\n",
      "RangeIndex: 184080 entries, 0 to 184079\n",
      "Data columns (total 19 columns):\n",
      " #   Column                   Non-Null Count   Dtype         \n",
      "---  ------                   --------------   -----         \n",
      " 0   Unnamed: 0               184080 non-null  int64         \n",
      " 1   Data                     184080 non-null  datetime64[ns]\n",
      " 2   PRECIP. TOTAL (mm)       183148 non-null  float64       \n",
      " 3   PRESSÃO ATM. (mB)        183149 non-null  float64       \n",
      " 4   PRESSÃO MAX. (mB)        183148 non-null  float64       \n",
      " 5   PRESSÃO MIN. (mB)        183148 non-null  float64       \n",
      " 6   RADIAÇÃO GLOBAL (KJ/m²)  168285 non-null  float64       \n",
      " 7   TEMP. AR (°C)            183149 non-null  float64       \n",
      " 8   TEMP. ORVALHO (°C)       182867 non-null  float64       \n",
      " 9   TEMP. MÁX. (°C)          183148 non-null  float64       \n",
      " 10  TEMP. MÍN. (°C)          183148 non-null  float64       \n",
      " 11  TEMP. ORVALHO MAX. (°C)  182831 non-null  float64       \n",
      " 12  TEMP. ORVALHO MIN. (°C)  182830 non-null  float64       \n",
      " 13  UMID. REL. MAX. (%)      182833 non-null  float64       \n",
      " 14  UMID. REL. MIN. (%)      182832 non-null  float64       \n",
      " 15  UMID. REL. AR (%)        182862 non-null  float64       \n",
      " 16  DIREÇÃO VENTO (°)        174773 non-null  float64       \n",
      " 17  RAJADA VENTO (m/s)       183145 non-null  float64       \n",
      " 18  VEL. VENTO (m/s)         183148 non-null  float64       \n",
      "dtypes: datetime64[ns](1), float64(17), int64(1)\n",
      "memory usage: 26.7 MB\n"
     ]
    }
   ],
   "source": [
    "df_media_por_dia.info()"
   ],
   "metadata": {
    "collapsed": false,
    "ExecuteTime": {
     "end_time": "2024-01-19T15:34:35.898981Z",
     "start_time": "2024-01-19T15:34:35.869328500Z"
    }
   },
   "id": "4d996dd7f02fac13",
   "execution_count": 59
  },
  {
   "cell_type": "code",
   "outputs": [],
   "source": [
    "df_media_por_dia = df_media_por_dia.drop(columns=['Unnamed: 0'])"
   ],
   "metadata": {
    "collapsed": false,
    "ExecuteTime": {
     "end_time": "2024-01-19T15:35:12.638259100Z",
     "start_time": "2024-01-19T15:35:12.618585900Z"
    }
   },
   "id": "f83936b90ba5c98f",
   "execution_count": 60
  },
  {
   "cell_type": "code",
   "outputs": [
    {
     "name": "stdout",
     "output_type": "stream",
     "text": [
      "             Data  PRECIP. TOTAL (mm)  PRESSÃO ATM. (mB)  PRESSÃO MAX. (mB)  \\\n",
      "0      2002-01-01                 0.0              946.9              946.9   \n",
      "1      2002-01-01                 0.0              947.3              947.3   \n",
      "2      2002-01-01                 0.0              947.9              947.9   \n",
      "3      2002-01-01                 0.0              947.3              947.9   \n",
      "4      2002-01-01                 0.2              945.9              947.3   \n",
      "...           ...                 ...                ...                ...   \n",
      "184075 2022-12-31                 0.2              949.7              950.6   \n",
      "184076 2022-12-31                 0.0              949.4              949.7   \n",
      "184077 2022-12-31                 0.0              948.8              949.4   \n",
      "184078 2022-12-31                 0.0              949.5              949.6   \n",
      "184079 2022-12-31                 0.0              950.8              950.8   \n",
      "\n",
      "        PRESSÃO MIN. (mB)  RADIAÇÃO GLOBAL (KJ/m²)  TEMP. AR (°C)  \\\n",
      "0                   946.3                  -9999.0           22.4   \n",
      "1                   946.8                  -9999.0           21.8   \n",
      "2                   947.4                  -9999.0           21.3   \n",
      "3                   947.3                  -9999.0           20.9   \n",
      "4                   945.9                  -9999.0           21.0   \n",
      "...                   ...                      ...            ...   \n",
      "184075              949.7                   3078.6           30.2   \n",
      "184076              949.3                   2126.7           31.8   \n",
      "184077              948.7                    790.4           29.5   \n",
      "184078              948.8                     87.1           28.0   \n",
      "184079              949.5                      7.6           25.9   \n",
      "\n",
      "        TEMP. ORVALHO (°C)  TEMP. MÁX. (°C)  TEMP. MÍN. (°C)  \\\n",
      "0                     20.2             22.8             22.4   \n",
      "1                     19.9             22.4             21.8   \n",
      "2                     19.8             22.1             21.3   \n",
      "3                     19.7             21.3             20.8   \n",
      "4                     19.5             21.0             20.7   \n",
      "...                    ...              ...              ...   \n",
      "184075                18.2             30.8             24.5   \n",
      "184076                19.6             31.9             30.2   \n",
      "184077                19.0             31.8             29.5   \n",
      "184078                21.2             29.5             27.8   \n",
      "184079                21.3             28.0             25.9   \n",
      "\n",
      "        TEMP. ORVALHO MAX. (°C)  TEMP. ORVALHO MIN. (°C)  UMID. REL. MAX. (%)  \\\n",
      "0                          20.3                     20.2                 88.0   \n",
      "1                          20.2                     19.9                 89.0   \n",
      "2                          20.3                     19.6                 91.0   \n",
      "3                          19.9                     19.6                 93.0   \n",
      "4                          19.9                     19.5                 94.0   \n",
      "...                         ...                      ...                  ...   \n",
      "184075                     22.7                     17.1                 80.0   \n",
      "184076                     20.9                     18.8                 57.0   \n",
      "184077                     20.9                     18.4                 54.0   \n",
      "184078                     21.5                     19.1                 67.0   \n",
      "184079                     21.3                     20.9                 76.0   \n",
      "\n",
      "        UMID. REL. MIN. (%)  UMID. REL. AR (%)  DIREÇÃO VENTO (°)  \\\n",
      "0                      85.0               88.0               21.0   \n",
      "1                      88.0               89.0                1.0   \n",
      "2                      88.0               91.0              163.0   \n",
      "3                      91.0               93.0               55.0   \n",
      "4                      91.0               91.0                1.0   \n",
      "...                     ...                ...                ...   \n",
      "184075                 44.0               48.0               98.0   \n",
      "184076                 47.0               49.0              125.0   \n",
      "184077                 47.0               53.0              120.0   \n",
      "184078                 53.0               66.0                3.0   \n",
      "184079                 66.0               76.0                3.0   \n",
      "\n",
      "        RAJADA VENTO (m/s)  VEL. VENTO (m/s)  \n",
      "0                      3.2               1.4  \n",
      "1                      3.3               0.8  \n",
      "2                      7.7               3.0  \n",
      "3                      3.4               0.4  \n",
      "4                      3.0               1.9  \n",
      "...                    ...               ...  \n",
      "184075                 6.5               2.9  \n",
      "184076                 4.7               1.4  \n",
      "184077                 5.1               1.7  \n",
      "184078                 3.3               2.1  \n",
      "184079                 4.9               1.0  \n",
      "\n",
      "[184080 rows x 18 columns]\n"
     ]
    }
   ],
   "source": [
    "print(df_media_por_dia)"
   ],
   "metadata": {
    "collapsed": false,
    "ExecuteTime": {
     "end_time": "2024-01-19T15:35:24.956306600Z",
     "start_time": "2024-01-19T15:35:24.935153400Z"
    }
   },
   "id": "1194fe56270a9612",
   "execution_count": 61
  },
  {
   "cell_type": "code",
   "outputs": [],
   "source": [
    "df_media_por_dia.to_csv('../data/dados_processados/CAMPO_GRANDE_01-01-2002_A_31-12-2022_com_dias_formatados_v3.CSV')"
   ],
   "metadata": {
    "collapsed": false,
    "ExecuteTime": {
     "end_time": "2024-01-19T15:37:53.323768800Z",
     "start_time": "2024-01-19T15:37:51.092318900Z"
    }
   },
   "id": "d74d0717f72b3e55",
   "execution_count": 62
  },
  {
   "cell_type": "code",
   "outputs": [
    {
     "name": "stdout",
     "output_type": "stream",
     "text": [
      "['Unnamed: 0' 'Data' 'PRECIP. TOTAL (mm)' 'PRESSÃO ATM. (mB)'\n",
      " 'PRESSÃO MAX. (mB)' 'PRESSÃO MIN. (mB)' 'RADIAÇÃO GLOBAL (KJ/m²)'\n",
      " 'TEMP. AR (°C)' 'TEMP. ORVALHO (°C)' 'TEMP. MÁX. (°C)' 'TEMP. MÍN. (°C)'\n",
      " 'TEMP. ORVALHO MAX. (°C)' 'TEMP. ORVALHO MIN. (°C)' 'UMID. REL. MAX. (%)'\n",
      " 'UMID. REL. MIN. (%)' 'UMID. REL. AR (%)' 'DIREÇÃO VENTO (°)'\n",
      " 'RAJADA VENTO (m/s)' 'VEL. VENTO (m/s)']\n"
     ]
    }
   ],
   "source": [
    "df_media_por_dia = pd.read_csv('../data/dados_processados/CAMPO_GRANDE_01-01-2002_A_31-12-2022_com_dias_formatados_v3.CSV')\n",
    "df = pd.DataFrame(dados)\n",
    "nomes_colunas = df_media_por_dia.columns.to_numpy()\n",
    "print(nomes_colunas)"
   ],
   "metadata": {
    "collapsed": false,
    "ExecuteTime": {
     "end_time": "2024-01-19T17:53:38.110355500Z",
     "start_time": "2024-01-19T17:53:37.768572400Z"
    }
   },
   "id": "e9aaedffc322cc03",
   "execution_count": 69
  },
  {
   "cell_type": "code",
   "outputs": [],
   "source": [
    "colunas_para_converter = nomes_colunas[2:]"
   ],
   "metadata": {
    "collapsed": false,
    "ExecuteTime": {
     "end_time": "2024-01-19T17:53:40.176196Z",
     "start_time": "2024-01-19T17:53:40.163987400Z"
    }
   },
   "id": "93e862a587008f38",
   "execution_count": 70
  },
  {
   "cell_type": "code",
   "outputs": [
    {
     "name": "stdout",
     "output_type": "stream",
     "text": [
      "['PRECIP. TOTAL (mm)' 'PRESSÃO ATM. (mB)' 'PRESSÃO MAX. (mB)'\n",
      " 'PRESSÃO MIN. (mB)' 'RADIAÇÃO GLOBAL (KJ/m²)' 'TEMP. AR (°C)'\n",
      " 'TEMP. ORVALHO (°C)' 'TEMP. MÁX. (°C)' 'TEMP. MÍN. (°C)'\n",
      " 'TEMP. ORVALHO MAX. (°C)' 'TEMP. ORVALHO MIN. (°C)' 'UMID. REL. MAX. (%)'\n",
      " 'UMID. REL. MIN. (%)' 'UMID. REL. AR (%)' 'DIREÇÃO VENTO (°)'\n",
      " 'RAJADA VENTO (m/s)' 'VEL. VENTO (m/s)']\n"
     ]
    }
   ],
   "source": [
    "print(colunas_para_converter)"
   ],
   "metadata": {
    "collapsed": false,
    "ExecuteTime": {
     "end_time": "2024-01-19T17:53:40.689157Z",
     "start_time": "2024-01-19T17:53:40.673591800Z"
    }
   },
   "id": "a0de73c429b97063",
   "execution_count": 71
  },
  {
   "cell_type": "code",
   "outputs": [],
   "source": [
    "df_media_por_dia = df_media_por_dia.groupby(df_media_por_dia['Data']).mean().reset_index()"
   ],
   "metadata": {
    "collapsed": false,
    "ExecuteTime": {
     "end_time": "2024-01-19T17:53:41.280479400Z",
     "start_time": "2024-01-19T17:53:41.217613100Z"
    }
   },
   "id": "3a6a74ab829afc90",
   "execution_count": 72
  },
  {
   "cell_type": "code",
   "outputs": [
    {
     "name": "stdout",
     "output_type": "stream",
     "text": [
      "            Data  Unnamed: 0  PRECIP. TOTAL (mm)  PRESSÃO ATM. (mB)  \\\n",
      "0     2002-01-01        11.5            0.008333         947.208333   \n",
      "1     2002-01-02        35.5            0.000000         948.779167   \n",
      "2     2002-01-03        59.5            0.000000         948.987500   \n",
      "3     2002-01-04        83.5            0.000000         948.833333   \n",
      "4     2002-01-05       107.5            0.000000         949.416667   \n",
      "...          ...         ...                 ...                ...   \n",
      "7665  2022-12-27    183971.5            0.000000         949.450000   \n",
      "7666  2022-12-28    183995.5            0.516667         949.691667   \n",
      "7667  2022-12-29    184019.5            0.000000         951.537500   \n",
      "7668  2022-12-30    184043.5            0.127273         951.054545   \n",
      "7669  2022-12-31    184067.5            0.123810         951.176190   \n",
      "\n",
      "      PRESSÃO MAX. (mB)  PRESSÃO MIN. (mB)  RADIAÇÃO GLOBAL (KJ/m²)  \\\n",
      "0            947.491667         946.879167             -3095.208333   \n",
      "1            948.979167         948.512500             -2898.500000   \n",
      "2            949.195833         948.791667             -2906.291667   \n",
      "3            949.025000         948.650000             -2891.625000   \n",
      "4            949.645833         949.133333             -3201.625000   \n",
      "...                 ...                ...                      ...   \n",
      "7665         949.725000         949.195833              1052.445833   \n",
      "7666         950.000000         949.304167               810.316667   \n",
      "7667         951.781250         951.256250              1797.381250   \n",
      "7668         951.359091         950.822727              1056.854545   \n",
      "7669         951.490476         950.876190              1180.552381   \n",
      "\n",
      "      TEMP. AR (°C)  TEMP. ORVALHO (°C)  TEMP. MÁX. (°C)  TEMP. MÍN. (°C)  \\\n",
      "0         24.554167           20.466667        24.987500        23.975000   \n",
      "1         25.866667           18.083333        26.620833        25.308333   \n",
      "2         25.645833           15.845833        26.191667        24.987500   \n",
      "3         26.391667           15.675000        27.100000        25.708333   \n",
      "4         26.275000           16.529167        27.175000        25.387500   \n",
      "...             ...                 ...              ...              ...   \n",
      "7665      26.979167           19.245833        27.850000        26.254167   \n",
      "7666      26.050000           20.866667        26.900000        25.462500   \n",
      "7667      27.012500           18.831250        27.587500        26.043750   \n",
      "7668      27.077273           17.468182        28.072727        25.972727   \n",
      "7669      26.804762           20.657143        27.700000        25.728571   \n",
      "\n",
      "      TEMP. ORVALHO MAX. (°C)  TEMP. ORVALHO MIN. (°C)  UMID. REL. MAX. (%)  \\\n",
      "0                   20.908333                19.941667            82.583333   \n",
      "1                   18.983333                17.362500            70.208333   \n",
      "2                   16.741667                14.941667            61.791667   \n",
      "3                   16.600000                14.729167            58.416667   \n",
      "4                   17.670833                15.500000            63.125000   \n",
      "...                       ...                      ...                  ...   \n",
      "7665                19.975000                18.670833            68.375000   \n",
      "7666                21.291667                20.441667            76.458333   \n",
      "7667                19.806250                17.856250            68.375000   \n",
      "7668                18.481818                16.431818            61.454545   \n",
      "7669                21.400000                19.823810            75.380952   \n",
      "\n",
      "      UMID. REL. MIN. (%)  UMID. REL. AR (%)  DIREÇÃO VENTO (°)  \\\n",
      "0               76.833333          79.625000         206.333333   \n",
      "1               62.083333          66.083333         200.500000   \n",
      "2               53.875000          57.708333         174.208333   \n",
      "3               50.375000          54.500000         180.083333   \n",
      "4               51.125000          56.958333         177.750000   \n",
      "...                   ...                ...                ...   \n",
      "7665            60.541667          64.375000         152.208333   \n",
      "7666            70.083333          73.791667         212.500000   \n",
      "7667            59.937500          63.187500         164.812500   \n",
      "7668            51.772727          56.818182         118.636364   \n",
      "7669            65.571429          70.428571         151.619048   \n",
      "\n",
      "      RAJADA VENTO (m/s)  VEL. VENTO (m/s)  \n",
      "0               5.166667          2.333333  \n",
      "1               4.016667          2.091667  \n",
      "2               4.150000          2.275000  \n",
      "3               4.216667          2.279167  \n",
      "4               3.595833          1.850000  \n",
      "...                  ...               ...  \n",
      "7665            3.875000          1.666667  \n",
      "7666            5.520833          2.220833  \n",
      "7667            5.500000          2.737500  \n",
      "7668            5.604545          2.554545  \n",
      "7669            5.380952          2.285714  \n",
      "\n",
      "[7670 rows x 19 columns]\n"
     ]
    }
   ],
   "source": [
    "print(df_media_por_dia)"
   ],
   "metadata": {
    "collapsed": false,
    "ExecuteTime": {
     "end_time": "2024-01-19T17:53:42.252370500Z",
     "start_time": "2024-01-19T17:53:42.228780900Z"
    }
   },
   "id": "47ea2cd87b10b5",
   "execution_count": 73
  },
  {
   "cell_type": "code",
   "outputs": [],
   "source": [
    "df_media_por_dia.to_csv('../data/dados_processados/CAMPO_GRANDE_01-01-2002_A_31-12-2022_com_media_por_dia_v4.CSV')"
   ],
   "metadata": {
    "collapsed": false,
    "ExecuteTime": {
     "end_time": "2024-01-19T17:53:43.289989400Z",
     "start_time": "2024-01-19T17:53:43.128697200Z"
    }
   },
   "id": "eeb167417280ee53",
   "execution_count": 74
  },
  {
   "cell_type": "code",
   "outputs": [],
   "source": [],
   "metadata": {
    "collapsed": false
   },
   "id": "f041e6b31c67196f"
  }
 ],
 "metadata": {
  "kernelspec": {
   "display_name": "Python 3",
   "language": "python",
   "name": "python3"
  },
  "language_info": {
   "codemirror_mode": {
    "name": "ipython",
    "version": 2
   },
   "file_extension": ".py",
   "mimetype": "text/x-python",
   "name": "python",
   "nbconvert_exporter": "python",
   "pygments_lexer": "ipython2",
   "version": "2.7.6"
  }
 },
 "nbformat": 4,
 "nbformat_minor": 5
}
